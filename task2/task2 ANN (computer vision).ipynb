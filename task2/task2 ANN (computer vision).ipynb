{
 "cells": [
  {
   "cell_type": "code",
   "execution_count": 1,
   "id": "881d973c-7230-409d-a419-bd4c144acf80",
   "metadata": {},
   "outputs": [],
   "source": [
    "import numpy as np\n",
    "from sklearn import datasets\n",
    "from sklearn.model_selection import train_test_split\n",
    "from sklearn.preprocessing import StandardScaler\n",
    "from sklearn.metrics import accuracy_score, classification_report, confusion_matrix\n",
    "from tensorflow import keras\n",
    "from tensorflow.keras import layers\n",
    "from sklearn.neighbors import KNeighborsClassifier\n",
    "from sklearn.svm import SVC\n",
    "import matplotlib.pyplot as plt\n",
    "import seaborn as sns"
   ]
  },
  {
   "cell_type": "code",
   "execution_count": 3,
   "id": "fc75c91f-a93d-4ebe-b070-77b21b36c1fc",
   "metadata": {},
   "outputs": [],
   "source": [
    "data = datasets.load_breast_cancer()\n",
    "X = data.data\n",
    "y = data.target"
   ]
  },
  {
   "cell_type": "code",
   "execution_count": 5,
   "id": "8c2899c8-f880-496a-a17e-0c491459437b",
   "metadata": {},
   "outputs": [],
   "source": [
    "X_train, X_test, y_train, y_test = train_test_split(X, y, test_size=0.3, random_state=42)"
   ]
  },
  {
   "cell_type": "code",
   "execution_count": 7,
   "id": "e7e2fd51-10f4-4ccb-a1e4-1a6a59e399cb",
   "metadata": {},
   "outputs": [],
   "source": [
    "scaler = StandardScaler()\n",
    "X_train = scaler.fit_transform(X_train)\n",
    "X_test = scaler.transform(X_test)"
   ]
  },
  {
   "cell_type": "code",
   "execution_count": 9,
   "id": "8a302b91-46d3-4f7b-923d-15c1ba271d76",
   "metadata": {},
   "outputs": [
    {
     "name": "stderr",
     "output_type": "stream",
     "text": [
      "C:\\Users\\IT SHOP\\AppData\\Roaming\\Python\\Python312\\site-packages\\keras\\src\\layers\\core\\dense.py:87: UserWarning: Do not pass an `input_shape`/`input_dim` argument to a layer. When using Sequential models, prefer using an `Input(shape)` object as the first layer in the model instead.\n",
      "  super().__init__(activity_regularizer=activity_regularizer, **kwargs)\n"
     ]
    },
    {
     "data": {
      "text/plain": [
       "<keras.src.callbacks.history.History at 0x1fa83100200>"
      ]
     },
     "execution_count": 9,
     "metadata": {},
     "output_type": "execute_result"
    }
   ],
   "source": [
    "model_ann = keras.Sequential([\n",
    "    layers.Dense(128, activation='relu', input_shape=(X_train.shape[1],)),\n",
    "    layers.Dense(64, activation='relu'),\n",
    "    layers.Dense(1, activation='sigmoid')\n",
    "])\n",
    "model_ann.compile(optimizer='adam', loss='binary_crossentropy', metrics=['accuracy'])\n",
    "model_ann.fit(X_train, y_train, epochs=50, batch_size=10, validation_split=0.2, verbose=0)\n"
   ]
  },
  {
   "cell_type": "code",
   "execution_count": 12,
   "id": "3dbed84e-3f64-44a7-8acd-42c6b785326f",
   "metadata": {},
   "outputs": [
    {
     "name": "stdout",
     "output_type": "stream",
     "text": [
      "\u001b[1m6/6\u001b[0m \u001b[32m━━━━━━━━━━━━━━━━━━━━\u001b[0m\u001b[37m\u001b[0m \u001b[1m0s\u001b[0m 5ms/step \n",
      "\n",
      "ANN Model Performance:\n",
      "Accuracy: 0.9708\n",
      "              precision    recall  f1-score   support\n",
      "\n",
      "           0       0.97      0.95      0.96        63\n",
      "           1       0.97      0.98      0.98       108\n",
      "\n",
      "    accuracy                           0.97       171\n",
      "   macro avg       0.97      0.97      0.97       171\n",
      "weighted avg       0.97      0.97      0.97       171\n",
      "\n"
     ]
    }
   ],
   "source": [
    "loss, accuracy_ann = model_ann.evaluate(X_test, y_test, verbose=0)\n",
    "y_pred_ann = (model_ann.predict(X_test) > 0.5).astype(\"int32\")\n",
    "confusion_ann = confusion_matrix(y_test, y_pred_ann)\n",
    "print(\"\\nANN Model Performance:\")\n",
    "print(f\"Accuracy: {accuracy_ann:.4f}\")\n",
    "print(classification_report(y_test, y_pred_ann))\n"
   ]
  },
  {
   "cell_type": "code",
   "execution_count": 14,
   "id": "af4777e7-9828-4837-b566-0e1552e5880f",
   "metadata": {},
   "outputs": [
    {
     "name": "stdout",
     "output_type": "stream",
     "text": [
      "\n",
      "SVM Model Performance:\n",
      "Accuracy: 0.7719\n",
      "              precision    recall  f1-score   support\n",
      "\n",
      "           0       1.00      0.38      0.55        63\n",
      "           1       0.73      1.00      0.85       108\n",
      "\n",
      "    accuracy                           0.77       171\n",
      "   macro avg       0.87      0.69      0.70       171\n",
      "weighted avg       0.83      0.77      0.74       171\n",
      "\n"
     ]
    }
   ],
   "source": [
    "svm_model = SVC(kernel='rbf', C=0.1, gamma=0.001)\n",
    "svm_model.fit(X_train, y_train)\n",
    "y_pred_svm = svm_model.predict(X_test)\n",
    "accuracy_svm = accuracy_score(y_test, y_pred_svm)\n",
    "confusion_svm = confusion_matrix(y_test, y_pred_svm)\n",
    "print(\"\\nSVM Model Performance:\")\n",
    "print(f\"Accuracy: {accuracy_svm:.4f}\")\n",
    "print(classification_report(y_test, y_pred_svm))"
   ]
  },
  {
   "cell_type": "code",
   "execution_count": 17,
   "id": "45084c57-c9f0-4999-94c1-5833b6de6c23",
   "metadata": {},
   "outputs": [
    {
     "name": "stdout",
     "output_type": "stream",
     "text": [
      "\n",
      "KNN Model Performance:\n",
      "Accuracy: 0.9591\n",
      "              precision    recall  f1-score   support\n",
      "\n",
      "           0       0.95      0.94      0.94        63\n",
      "           1       0.96      0.97      0.97       108\n",
      "\n",
      "    accuracy                           0.96       171\n",
      "   macro avg       0.96      0.95      0.96       171\n",
      "weighted avg       0.96      0.96      0.96       171\n",
      "\n"
     ]
    }
   ],
   "source": [
    "knn_model = KNeighborsClassifier(n_neighbors=6)\n",
    "knn_model.fit(X_train, y_train)\n",
    "y_pred_knn = knn_model.predict(X_test)\n",
    "accuracy_knn = accuracy_score(y_test, y_pred_knn)\n",
    "confusion_knn = confusion_matrix(y_test, y_pred_knn)\n",
    "print(\"\\nKNN Model Performance:\")\n",
    "print(f\"Accuracy: {accuracy_knn:.4f}\")\n",
    "print(classification_report(y_test, y_pred_knn))"
   ]
  },
  {
   "cell_type": "code",
   "execution_count": 19,
   "id": "324edea2-3435-43da-bd6a-698ed4b96c4a",
   "metadata": {},
   "outputs": [
    {
     "name": "stdout",
     "output_type": "stream",
     "text": [
      "\n",
      "Model Accuracies:\n",
      "ANN Accuracy: 0.9708\n",
      "SVM Accuracy: 0.7719\n",
      "KNN Accuracy: 0.9591\n"
     ]
    }
   ],
   "source": [
    "print(\"\\nModel Accuracies:\")\n",
    "print(f\"ANN Accuracy: {accuracy_ann:.4f}\")\n",
    "print(f\"SVM Accuracy: {accuracy_svm:.4f}\")\n",
    "print(f\"KNN Accuracy: {accuracy_knn:.4f}\")"
   ]
  },
  {
   "cell_type": "code",
   "execution_count": 21,
   "id": "5ad2ebd7-afdf-497c-8a01-bc8ec2bd8e7c",
   "metadata": {},
   "outputs": [
    {
     "name": "stdout",
     "output_type": "stream",
     "text": [
      "\n",
      "Best Model by Accuracy: ANN with Accuracy: 0.9708\n"
     ]
    }
   ],
   "source": [
    "models_accuracy = {\"ANN\": accuracy_ann, \"SVM\": accuracy_svm, \"KNN\": accuracy_knn}\n",
    "best_model = max(models_accuracy, key=models_accuracy.get)\n",
    "print(f\"\\nBest Model by Accuracy: {best_model} with Accuracy: {models_accuracy[best_model]:.4f}\")\n"
   ]
  },
  {
   "cell_type": "code",
   "execution_count": 23,
   "id": "1801293b-8fec-4e1f-987c-b4836cc8243c",
   "metadata": {},
   "outputs": [],
   "source": [
    "# Plot Confusion Matrices for each model\n",
    "def plot_confusion_matrix(cm, model_name):\n",
    "    plt.figure(figsize=(6, 5))\n",
    "    sns.heatmap(cm, annot=True, fmt='d', cmap='Blues', cbar=False,\n",
    "                xticklabels=['Malignant', 'Benign'], yticklabels=['Malignant', 'Benign'])\n",
    "    plt.title(f'Confusion Matrix for {model_name}')\n",
    "    plt.xlabel('Predicted')\n",
    "    plt.ylabel('True')\n",
    "    plt.show()\n"
   ]
  },
  {
   "cell_type": "code",
   "execution_count": 26,
   "id": "3d8f0271-a172-49e3-87ec-95df1b087b15",
   "metadata": {},
   "outputs": [
    {
     "name": "stdout",
     "output_type": "stream",
     "text": [
      "\n",
      "Confusion Matrices:\n"
     ]
    },
    {
     "data": {
      "image/png": "[encoded data removed]",
      "text/plain": [
       "<Figure size 600x500 with 1 Axes>"
      ]
     },
     "metadata": {},
     "output_type": "display_data"
    },
    {
     "data": {
      "image/png": "[encoded data removed]",
      "text/plain": [
       "<Figure size 600x500 with 1 Axes>"
      ]
     },
     "metadata": {},
     "output_type": "display_data"
    },
    {
     "data": {
      "image/png": "[encoded data removed]",
      "text/plain": [
       "<Figure size 600x500 with 1 Axes>"
      ]
     },
     "metadata": {},
     "output_type": "display_data"
    }
   ],
   "source": [
    "print(\"\\nConfusion Matrices:\")\n",
    "plot_confusion_matrix(confusion_ann, \"ANN\")\n",
    "plot_confusion_matrix(confusion_svm, \"SVM\")\n",
    "plot_confusion_matrix(confusion_knn, \"KNN\")"
   ]
  },
  {
   "cell_type": "code",
   "execution_count": null,
   "id": "e5aed728-72d0-48db-b624-cb1c8c8da696",
   "metadata": {},
   "outputs": [],
   "source": []
  }
 ],
 "metadata": {
  "kernelspec": {
   "display_name": "Python 3 (ipykernel)",
   "language": "python",
   "name": "python3"
  },
  "language_info": {
   "codemirror_mode": {
    "name": "ipython",
    "version": 3
   },
   "file_extension": ".py",
   "mimetype": "text/x-python",
   "name": "python",
   "nbconvert_exporter": "python",
   "pygments_lexer": "ipython3",
   "version": "3.12.4"
  }
 },
 "nbformat": 4,
 "nbformat_minor": 5
}
